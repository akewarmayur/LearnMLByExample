{
 "cells": [
  {
   "cell_type": "code",
   "execution_count": 1,
   "id": "ultimate-ocean",
   "metadata": {},
   "outputs": [],
   "source": [
    "import pandas as pd\n",
    "import numpy as np\n",
    "import seaborn as sns\n",
    "import matplotlib.pyplot as plt\n",
    "%matplotlib inline"
   ]
  },
  {
   "cell_type": "code",
   "execution_count": null,
   "id": "specialized-sustainability",
   "metadata": {},
   "outputs": [],
   "source": [
    "eeg_data = pd.read_csv(\"eeg.csv\")"
   ]
  },
  {
   "cell_type": "code",
   "execution_count": null,
   "id": "oriental-conference",
   "metadata": {},
   "outputs": [],
   "source": [
    "eeg_data.head(1)"
   ]
  },
  {
   "cell_type": "code",
   "execution_count": null,
   "id": "corrected-celebrity",
   "metadata": {},
   "outputs": [],
   "source": [
    "# Check the lables of the Class\n",
    "eeg_data['y'].unique()"
   ]
  },
  {
   "cell_type": "code",
   "execution_count": null,
   "id": "hired-warren",
   "metadata": {},
   "outputs": [],
   "source": [
    "# Convert the 5 classes into binary class\n",
    "def convert_binary_class(y):\n",
    "    if y == 2 or y == 3 or y == 4 or y == 5 :\n",
    "        return 0\n",
    "    else :\n",
    "        return 1"
   ]
  },
  {
   "cell_type": "code",
   "execution_count": null,
   "id": "prostate-folder",
   "metadata": {},
   "outputs": [],
   "source": [
    "# Apply above function to convert into binary class\n",
    "eeg_data['y'] = eeg_data['y'].apply(convert_binary_class)\n",
    "eeg_data.head()"
   ]
  },
  {
   "cell_type": "code",
   "execution_count": null,
   "id": "parliamentary-hopkins",
   "metadata": {},
   "outputs": [],
   "source": [
    "# Remove unnecessory columns that is the name of the signal\n",
    "del eeg_data['Signal']"
   ]
  },
  {
   "cell_type": "code",
   "execution_count": null,
   "id": "expensive-thread",
   "metadata": {},
   "outputs": [],
   "source": [
    "eeg_data.head()"
   ]
  },
  {
   "cell_type": "code",
   "execution_count": null,
   "id": "dress-there",
   "metadata": {},
   "outputs": [],
   "source": [
    "from sklearn.preprocessing import StandardScaler\n",
    "scaler = StandardScaler()"
   ]
  },
  {
   "cell_type": "code",
   "execution_count": null,
   "id": "thermal-plymouth",
   "metadata": {},
   "outputs": [],
   "source": [
    "scaler.fit(eeg_data.drop('y',axis=1))"
   ]
  },
  {
   "cell_type": "code",
   "execution_count": null,
   "id": "surgical-vaccine",
   "metadata": {},
   "outputs": [],
   "source": [
    "scaled_features = scaler.transform(eeg_data.drop('y',axis=1))"
   ]
  },
  {
   "cell_type": "code",
   "execution_count": null,
   "id": "balanced-scroll",
   "metadata": {},
   "outputs": [],
   "source": [
    "eeg_feature = pd.DataFrame(scaled_features)\n",
    "eeg_feature.head()"
   ]
  },
  {
   "cell_type": "code",
   "execution_count": null,
   "id": "twenty-deficit",
   "metadata": {},
   "outputs": [],
   "source": [
    "from sklearn.model_selection import train_test_split\n",
    "X_train, X_test, y_train, y_test = train_test_split(eeg_feature,eeg_data['y'],\n",
    "                                                    test_size=0.30)"
   ]
  },
  {
   "cell_type": "code",
   "execution_count": null,
   "id": "corrected-teens",
   "metadata": {},
   "outputs": [],
   "source": [
    "from sklearn.naive_bayes import GaussianNB\n",
    "classifier = GaussianNB()\n",
    "classifier.fit(X_train, y_train)"
   ]
  },
  {
   "cell_type": "code",
   "execution_count": null,
   "id": "nominated-walnut",
   "metadata": {},
   "outputs": [],
   "source": [
    "predictions = classifier.predict(X_test)"
   ]
  },
  {
   "cell_type": "code",
   "execution_count": null,
   "id": "buried-tumor",
   "metadata": {},
   "outputs": [],
   "source": [
    "from sklearn.metrics import confusion_matrix, classification_report\n",
    "# Confusion Matrix\n",
    "cm = confusion_matrix(y_test, predictions)\n",
    "cm"
   ]
  },
  {
   "cell_type": "code",
   "execution_count": null,
   "id": "appreciated-gabriel",
   "metadata": {},
   "outputs": [],
   "source": [
    "# Accuracy = TP + TN / TP + TN + FN + FP\n",
    "accuracy = (cm[0][0] + cm[1][1]) / (cm[0][0] + cm [0][1] + cm [1][0] + cm[1][1])\n",
    "# Accuracy\n",
    "accuracy * 100"
   ]
  },
  {
   "cell_type": "code",
   "execution_count": null,
   "id": "mysterious-hawaii",
   "metadata": {},
   "outputs": [],
   "source": [
    "target_names = ['Seizure Activity', 'Non Seizure Activity ']\n",
    "print(classification_report(y_test, predictions, target_names=target_names))"
   ]
  }
 ],
 "metadata": {
  "kernelspec": {
   "display_name": "Python 3",
   "language": "python",
   "name": "python3"
  },
  "language_info": {
   "codemirror_mode": {
    "name": "ipython",
    "version": 3
   },
   "file_extension": ".py",
   "mimetype": "text/x-python",
   "name": "python",
   "nbconvert_exporter": "python",
   "pygments_lexer": "ipython3",
   "version": "3.8.6"
  }
 },
 "nbformat": 4,
 "nbformat_minor": 5
}
